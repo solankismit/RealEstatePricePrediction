{
 "cells": [
  {
   "cell_type": "markdown",
   "id": "93f21e8b",
   "metadata": {},
   "source": [
    "# Using The Model"
   ]
  },
  {
   "cell_type": "code",
   "execution_count": 7,
   "id": "661fd7de",
   "metadata": {},
   "outputs": [],
   "source": [
    "from joblib import dump, load\n",
    "import numpy as np\n",
    "model= load('realestate_price.joblib')\n",
    "features = np.array([[-0.43942006,  3.12628155, -1.12165014, -0.27288841, -2.42262747,\n",
    "        -0.24141041, -1.31238772,  2.61111401, -1.0016859 , -0.5778192 ,\n",
    "        -0.97491834,  0.41164221, -0.87091034]])\n",
    "ans = model.predict(features)"
   ]
  },
  {
   "cell_type": "code",
   "execution_count": 8,
   "id": "692ae7b0",
   "metadata": {},
   "outputs": [
    {
     "data": {
      "text/plain": [
       "array([22.534])"
      ]
     },
     "execution_count": 8,
     "metadata": {},
     "output_type": "execute_result"
    }
   ],
   "source": [
    "ans"
   ]
  },
  {
   "cell_type": "code",
   "execution_count": null,
   "id": "a7d3dfaf",
   "metadata": {},
   "outputs": [],
   "source": []
  }
 ],
 "metadata": {
  "kernelspec": {
   "display_name": "Python 3 (ipykernel)",
   "language": "python",
   "name": "python3"
  },
  "language_info": {
   "codemirror_mode": {
    "name": "ipython",
    "version": 3
   },
   "file_extension": ".py",
   "mimetype": "text/x-python",
   "name": "python",
   "nbconvert_exporter": "python",
   "pygments_lexer": "ipython3",
   "version": "3.11.0"
  }
 },
 "nbformat": 4,
 "nbformat_minor": 5
}
